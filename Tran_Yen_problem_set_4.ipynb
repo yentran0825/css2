{
  "nbformat": 4,
  "nbformat_minor": 0,
  "metadata": {
    "colab": {
      "name": "Tran_Yen_problem_set_4.ipynb",
      "provenance": []
    },
    "kernelspec": {
      "name": "python3",
      "display_name": "Python 3"
    },
    "language_info": {
      "name": "python"
    }
  },
  "cells": [
    {
      "cell_type": "markdown",
      "metadata": {
        "id": "cZ_jmAaJ85XI"
      },
      "source": [
        "###Importing libraries"
      ]
    },
    {
      "cell_type": "code",
      "metadata": {
        "id": "_HqLczdYeOfm"
      },
      "source": [
        "import pandas as pd\n",
        "from bs4 import BeautifulSoup\n",
        "import requests"
      ],
      "execution_count": 2,
      "outputs": []
    },
    {
      "cell_type": "markdown",
      "metadata": {
        "id": "PDp9wl8J89LS"
      },
      "source": [
        "###Zipcode function"
      ]
    },
    {
      "cell_type": "code",
      "metadata": {
        "id": "QoF0LXQ0fbUC"
      },
      "source": [
        "url = ''\n",
        "\n",
        "def zipcode (z):\n",
        "  #checking to see if user's input is a valid number and length\n",
        "  if type(z) == int and len(str(z)) == 5:\n",
        "    url = 'https://weather.com/weather/today/l/'+str(z)+':4:US'\n",
        "    response = requests.get(url)\n",
        "\n",
        "    #checking if the URL is valid\n",
        "    if response == 404:\n",
        "      print(\"Zipcode is not valid \\n\")\n",
        "    #webscraping if the URL is valid\n",
        "    else:\n",
        "      soup = BeautifulSoup(response.content,'html.parser')\n",
        "      weather_html = soup.find_all(class_ = \"CurrentConditions--CurrentConditions--2_Nmm\")\n",
        "      #Zipcode\n",
        "      print(z)\n",
        "      if len(weather_html) == 0:\n",
        "        print(\"No data \\n\")\n",
        "      else:\n",
        "        #Location\n",
        "        print(weather_html[0].find('h1').text)\n",
        "        #Weather\n",
        "        print(weather_html[0].find('span').text)\n",
        "        print(\"\\n\")\n",
        "  else:\n",
        "    print(z)\n",
        "    print('Zipcode is not valid\\n')"
      ],
      "execution_count": 69,
      "outputs": []
    },
    {
      "cell_type": "markdown",
      "metadata": {
        "id": "MVne-wRf9f_S"
      },
      "source": [
        "###Passing in the zipcode list"
      ]
    },
    {
      "cell_type": "code",
      "metadata": {
        "colab": {
          "base_uri": "https://localhost:8080/"
        },
        "id": "itdcCyhPh3sd",
        "outputId": "80919db2-1b90-47b4-a9d6-37e7d25cc51b"
      },
      "source": [
        "zip_list = [92122, str(92122), 9212, 99999, 92328, 'Hello, is this weather.com?']\n",
        "\n",
        "for x in zip_list:\n",
        "  zipcode(x)"
      ],
      "execution_count": 71,
      "outputs": [
        {
          "output_type": "stream",
          "text": [
            "92122\n",
            "San Diego, CA Weather\n",
            "60°\n",
            "\n",
            "\n",
            "92122\n",
            "Zipcode is not valid\n",
            "\n",
            "9212\n",
            "Zipcode is not valid\n",
            "\n",
            "99999\n",
            "No data \n",
            "\n",
            "92328\n",
            "Death Valley, CA Weather\n",
            "96°\n",
            "\n",
            "\n",
            "Hello, is this weather.com?\n",
            "Zipcode is not valid\n",
            "\n"
          ],
          "name": "stdout"
        }
      ]
    }
  ]
}