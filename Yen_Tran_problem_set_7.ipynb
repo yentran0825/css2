{
  "nbformat": 4,
  "nbformat_minor": 0,
  "metadata": {
    "colab": {
      "name": "Yen_Tran_problem_set_7.ipynb",
      "provenance": [],
      "collapsed_sections": []
    },
    "kernelspec": {
      "name": "python3",
      "display_name": "Python 3"
    }
  },
  "cells": [
    {
      "cell_type": "markdown",
      "metadata": {
        "id": "1aonsylV5vG9"
      },
      "source": [
        "Bolded text = **do not change**\n",
        "\n",
        "Italics text = *replace with your own words*\n"
      ]
    },
    {
      "cell_type": "markdown",
      "metadata": {
        "id": "c48Ljd_r5avn"
      },
      "source": [
        "******************\n",
        "*******************\n",
        "\n",
        "# **Description of data**\n",
        "\n",
        "*Describe your dataset and what you want to analyze*\n",
        " \n"
      ]
    },
    {
      "cell_type": "markdown",
      "metadata": {
        "id": "41qkbQM57ToO"
      },
      "source": [
        "*******************\n",
        "*******************\n",
        "# **Libraries**"
      ]
    },
    {
      "cell_type": "code",
      "metadata": {
        "id": "o2hx4NVE7S3M"
      },
      "source": [
        "import pandas as pd\n",
        "import seaborn as sns\n",
        "import matplotlib.pyplot as plt\n",
        "import numpy as np\n",
        "from google.colab import files"
      ],
      "execution_count": 1,
      "outputs": []
    },
    {
      "cell_type": "markdown",
      "metadata": {
        "id": "ooPIKTFI7LvE"
      },
      "source": [
        "*******************\n",
        "*******************\n",
        "# **Functions used in notebook**\n",
        "\n",
        "*If you write a function to help with any of your sections, please put that function here*"
      ]
    },
    {
      "cell_type": "code",
      "metadata": {
        "id": "ESfSh2Z27LPo"
      },
      "source": [
        "# Functions that you develop"
      ],
      "execution_count": 2,
      "outputs": []
    },
    {
      "cell_type": "markdown",
      "metadata": {
        "id": "NWIyiy4m5lAI"
      },
      "source": [
        "*******************\n",
        "*******************\n",
        "# **Getting data**\n",
        "\n",
        "*Provide Pseudocode*"
      ]
    },
    {
      "cell_type": "code",
      "metadata": {
        "id": "lQDr0VdN5sYN",
        "colab": {
          "resources": {
            "http://localhost:8080/nbextensions/google.colab/files.js": {
              "data": "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",
              "ok": true,
              "headers": [
                [
                  "content-type",
                  "application/javascript"
                ]
              ],
              "status": 200,
              "status_text": ""
            }
          },
          "base_uri": "https://localhost:8080/",
          "height": 72
        },
        "outputId": "864b7166-4cb7-4f8b-bc10-cb25f01162a5"
      },
      "source": [
        "# Code for acquiring data\n",
        "uploaded = files.upload()\n",
        "data = pd.read_csv('anime.csv')"
      ],
      "execution_count": 3,
      "outputs": [
        {
          "output_type": "display_data",
          "data": {
            "text/html": [
              "\n",
              "     <input type=\"file\" id=\"files-d077aa70-abbe-4147-b940-dbf6ea3e9a78\" name=\"files[]\" multiple disabled\n",
              "        style=\"border:none\" />\n",
              "     <output id=\"result-d077aa70-abbe-4147-b940-dbf6ea3e9a78\">\n",
              "      Upload widget is only available when the cell has been executed in the\n",
              "      current browser session. Please rerun this cell to enable.\n",
              "      </output>\n",
              "      <script src=\"/nbextensions/google.colab/files.js\"></script> "
            ],
            "text/plain": [
              "<IPython.core.display.HTML object>"
            ]
          },
          "metadata": {
            "tags": []
          }
        },
        {
          "output_type": "stream",
          "text": [
            "Saving anime.csv to anime (2).csv\n"
          ],
          "name": "stdout"
        }
      ]
    },
    {
      "cell_type": "code",
      "metadata": {
        "id": "kkNQsxro5XmC",
        "colab": {
          "base_uri": "https://localhost:8080/",
          "height": 221
        },
        "outputId": "6fad7bae-49bf-411e-b616-5f108fe56efa"
      },
      "source": [
        "# Display first 5 rows of data\n",
        "print(data.shape)\n",
        "data.head()"
      ],
      "execution_count": 4,
      "outputs": [
        {
          "output_type": "stream",
          "text": [
            "(11153, 7)\n"
          ],
          "name": "stdout"
        },
        {
          "output_type": "execute_result",
          "data": {
            "text/html": [
              "<div>\n",
              "<style scoped>\n",
              "    .dataframe tbody tr th:only-of-type {\n",
              "        vertical-align: middle;\n",
              "    }\n",
              "\n",
              "    .dataframe tbody tr th {\n",
              "        vertical-align: top;\n",
              "    }\n",
              "\n",
              "    .dataframe thead th {\n",
              "        text-align: right;\n",
              "    }\n",
              "</style>\n",
              "<table border=\"1\" class=\"dataframe\">\n",
              "  <thead>\n",
              "    <tr style=\"text-align: right;\">\n",
              "      <th></th>\n",
              "      <th>anime_id</th>\n",
              "      <th>name</th>\n",
              "      <th>genre</th>\n",
              "      <th>type</th>\n",
              "      <th>episodes</th>\n",
              "      <th>rating</th>\n",
              "      <th>members</th>\n",
              "    </tr>\n",
              "  </thead>\n",
              "  <tbody>\n",
              "    <tr>\n",
              "      <th>0</th>\n",
              "      <td>32281</td>\n",
              "      <td>Kimi no Na wa.</td>\n",
              "      <td>Drama, Romance, School, Supernatural</td>\n",
              "      <td>Movie</td>\n",
              "      <td>1</td>\n",
              "      <td>9.37</td>\n",
              "      <td>200630</td>\n",
              "    </tr>\n",
              "    <tr>\n",
              "      <th>1</th>\n",
              "      <td>5114</td>\n",
              "      <td>Fullmetal Alchemist: Brotherhood</td>\n",
              "      <td>Action, Adventure, Drama, Fantasy, Magic, Mili...</td>\n",
              "      <td>TV</td>\n",
              "      <td>64</td>\n",
              "      <td>9.26</td>\n",
              "      <td>793665</td>\n",
              "    </tr>\n",
              "    <tr>\n",
              "      <th>2</th>\n",
              "      <td>28977</td>\n",
              "      <td>Gintama°</td>\n",
              "      <td>Action, Comedy, Historical, Parody, Samurai, S...</td>\n",
              "      <td>TV</td>\n",
              "      <td>51</td>\n",
              "      <td>9.25</td>\n",
              "      <td>114262</td>\n",
              "    </tr>\n",
              "    <tr>\n",
              "      <th>3</th>\n",
              "      <td>9253</td>\n",
              "      <td>Steins;Gate</td>\n",
              "      <td>Sci-Fi, Thriller</td>\n",
              "      <td>TV</td>\n",
              "      <td>24</td>\n",
              "      <td>9.17</td>\n",
              "      <td>673572</td>\n",
              "    </tr>\n",
              "    <tr>\n",
              "      <th>4</th>\n",
              "      <td>9969</td>\n",
              "      <td>Gintama&amp;#039;</td>\n",
              "      <td>Action, Comedy, Historical, Parody, Samurai, S...</td>\n",
              "      <td>TV</td>\n",
              "      <td>51</td>\n",
              "      <td>9.16</td>\n",
              "      <td>151266</td>\n",
              "    </tr>\n",
              "  </tbody>\n",
              "</table>\n",
              "</div>"
            ],
            "text/plain": [
              "   anime_id                              name  ... rating members\n",
              "0     32281                    Kimi no Na wa.  ...   9.37  200630\n",
              "1      5114  Fullmetal Alchemist: Brotherhood  ...   9.26  793665\n",
              "2     28977                          Gintama°  ...   9.25  114262\n",
              "3      9253                       Steins;Gate  ...   9.17  673572\n",
              "4      9969                     Gintama&#039;  ...   9.16  151266\n",
              "\n",
              "[5 rows x 7 columns]"
            ]
          },
          "metadata": {
            "tags": []
          },
          "execution_count": 4
        }
      ]
    },
    {
      "cell_type": "code",
      "metadata": {
        "id": "O4Bm2e6i6wJn",
        "colab": {
          "base_uri": "https://localhost:8080/",
          "height": 204
        },
        "outputId": "66790516-3aad-4433-b439-00180bff8208"
      },
      "source": [
        "# Display last 5 rows of data\n",
        "data.tail()"
      ],
      "execution_count": 5,
      "outputs": [
        {
          "output_type": "execute_result",
          "data": {
            "text/html": [
              "<div>\n",
              "<style scoped>\n",
              "    .dataframe tbody tr th:only-of-type {\n",
              "        vertical-align: middle;\n",
              "    }\n",
              "\n",
              "    .dataframe tbody tr th {\n",
              "        vertical-align: top;\n",
              "    }\n",
              "\n",
              "    .dataframe thead th {\n",
              "        text-align: right;\n",
              "    }\n",
              "</style>\n",
              "<table border=\"1\" class=\"dataframe\">\n",
              "  <thead>\n",
              "    <tr style=\"text-align: right;\">\n",
              "      <th></th>\n",
              "      <th>anime_id</th>\n",
              "      <th>name</th>\n",
              "      <th>genre</th>\n",
              "      <th>type</th>\n",
              "      <th>episodes</th>\n",
              "      <th>rating</th>\n",
              "      <th>members</th>\n",
              "    </tr>\n",
              "  </thead>\n",
              "  <tbody>\n",
              "    <tr>\n",
              "      <th>11148</th>\n",
              "      <td>730</td>\n",
              "      <td>Houkago no Shokuinshitsu</td>\n",
              "      <td>Drama, Romance, Yaoi</td>\n",
              "      <td>OVA</td>\n",
              "      <td>2</td>\n",
              "      <td>5.23</td>\n",
              "      <td>4550</td>\n",
              "    </tr>\n",
              "    <tr>\n",
              "      <th>11149</th>\n",
              "      <td>6546</td>\n",
              "      <td>Pico: My Little Summer Story</td>\n",
              "      <td>Yaoi</td>\n",
              "      <td>OVA</td>\n",
              "      <td>1</td>\n",
              "      <td>5.21</td>\n",
              "      <td>5551</td>\n",
              "    </tr>\n",
              "    <tr>\n",
              "      <th>11150</th>\n",
              "      <td>30663</td>\n",
              "      <td>Docchi mo Maid</td>\n",
              "      <td>Action, Comedy, Ecchi, Yuri</td>\n",
              "      <td>ONA</td>\n",
              "      <td>1</td>\n",
              "      <td>5.15</td>\n",
              "      <td>223</td>\n",
              "    </tr>\n",
              "    <tr>\n",
              "      <th>11151</th>\n",
              "      <td>34382</td>\n",
              "      <td>Citrus</td>\n",
              "      <td>Drama, Romance, School, Yuri</td>\n",
              "      <td>NaN</td>\n",
              "      <td>Unknown</td>\n",
              "      <td>NaN</td>\n",
              "      <td>2459</td>\n",
              "    </tr>\n",
              "    <tr>\n",
              "      <th>11152</th>\n",
              "      <td>33654</td>\n",
              "      <td>Hitorijime My Hero</td>\n",
              "      <td>Yaoi</td>\n",
              "      <td>NaN</td>\n",
              "      <td>Unknown</td>\n",
              "      <td>NaN</td>\n",
              "      <td>1574</td>\n",
              "    </tr>\n",
              "  </tbody>\n",
              "</table>\n",
              "</div>"
            ],
            "text/plain": [
              "       anime_id                          name  ... rating members\n",
              "11148       730      Houkago no Shokuinshitsu  ...   5.23    4550\n",
              "11149      6546  Pico: My Little Summer Story  ...   5.21    5551\n",
              "11150     30663                Docchi mo Maid  ...   5.15     223\n",
              "11151     34382                        Citrus  ...    NaN    2459\n",
              "11152     33654            Hitorijime My Hero  ...    NaN    1574\n",
              "\n",
              "[5 rows x 7 columns]"
            ]
          },
          "metadata": {
            "tags": []
          },
          "execution_count": 5
        }
      ]
    },
    {
      "cell_type": "code",
      "metadata": {
        "id": "RJLape8Q6y4M",
        "colab": {
          "base_uri": "https://localhost:8080/"
        },
        "outputId": "ea537263-a48f-4881-e562-aaa109458072"
      },
      "source": [
        "# Show data.info\n",
        "data.info()"
      ],
      "execution_count": 6,
      "outputs": [
        {
          "output_type": "stream",
          "text": [
            "<class 'pandas.core.frame.DataFrame'>\n",
            "RangeIndex: 11153 entries, 0 to 11152\n",
            "Data columns (total 7 columns):\n",
            " #   Column    Non-Null Count  Dtype  \n",
            "---  ------    --------------  -----  \n",
            " 0   anime_id  11153 non-null  int64  \n",
            " 1   name      11153 non-null  object \n",
            " 2   genre     11091 non-null  object \n",
            " 3   type      11128 non-null  object \n",
            " 4   episodes  11153 non-null  object \n",
            " 5   rating    10931 non-null  float64\n",
            " 6   members   11153 non-null  int64  \n",
            "dtypes: float64(1), int64(2), object(4)\n",
            "memory usage: 610.1+ KB\n"
          ],
          "name": "stdout"
        }
      ]
    },
    {
      "cell_type": "code",
      "metadata": {
        "id": "gvgJ3Ie463_8",
        "colab": {
          "base_uri": "https://localhost:8080/",
          "height": 297
        },
        "outputId": "7de2fdf5-e2b3-45be-c4d3-2d2a723797c9"
      },
      "source": [
        "# Show data.describe\n",
        "data.describe()"
      ],
      "execution_count": 7,
      "outputs": [
        {
          "output_type": "execute_result",
          "data": {
            "text/html": [
              "<div>\n",
              "<style scoped>\n",
              "    .dataframe tbody tr th:only-of-type {\n",
              "        vertical-align: middle;\n",
              "    }\n",
              "\n",
              "    .dataframe tbody tr th {\n",
              "        vertical-align: top;\n",
              "    }\n",
              "\n",
              "    .dataframe thead th {\n",
              "        text-align: right;\n",
              "    }\n",
              "</style>\n",
              "<table border=\"1\" class=\"dataframe\">\n",
              "  <thead>\n",
              "    <tr style=\"text-align: right;\">\n",
              "      <th></th>\n",
              "      <th>anime_id</th>\n",
              "      <th>rating</th>\n",
              "      <th>members</th>\n",
              "    </tr>\n",
              "  </thead>\n",
              "  <tbody>\n",
              "    <tr>\n",
              "      <th>count</th>\n",
              "      <td>11153.000000</td>\n",
              "      <td>10931.000000</td>\n",
              "      <td>1.115300e+04</td>\n",
              "    </tr>\n",
              "    <tr>\n",
              "      <th>mean</th>\n",
              "      <td>14474.201291</td>\n",
              "      <td>6.504232</td>\n",
              "      <td>1.964841e+04</td>\n",
              "    </tr>\n",
              "    <tr>\n",
              "      <th>std</th>\n",
              "      <td>11551.022750</td>\n",
              "      <td>1.049568</td>\n",
              "      <td>5.731263e+04</td>\n",
              "    </tr>\n",
              "    <tr>\n",
              "      <th>min</th>\n",
              "      <td>1.000000</td>\n",
              "      <td>1.670000</td>\n",
              "      <td>5.000000e+00</td>\n",
              "    </tr>\n",
              "    <tr>\n",
              "      <th>25%</th>\n",
              "      <td>3508.000000</td>\n",
              "      <td>5.900000</td>\n",
              "      <td>1.890000e+02</td>\n",
              "    </tr>\n",
              "    <tr>\n",
              "      <th>50%</th>\n",
              "      <td>10774.000000</td>\n",
              "      <td>6.620000</td>\n",
              "      <td>1.452000e+03</td>\n",
              "    </tr>\n",
              "    <tr>\n",
              "      <th>75%</th>\n",
              "      <td>25597.000000</td>\n",
              "      <td>7.240000</td>\n",
              "      <td>1.166900e+04</td>\n",
              "    </tr>\n",
              "    <tr>\n",
              "      <th>max</th>\n",
              "      <td>34527.000000</td>\n",
              "      <td>10.000000</td>\n",
              "      <td>1.013917e+06</td>\n",
              "    </tr>\n",
              "  </tbody>\n",
              "</table>\n",
              "</div>"
            ],
            "text/plain": [
              "           anime_id        rating       members\n",
              "count  11153.000000  10931.000000  1.115300e+04\n",
              "mean   14474.201291      6.504232  1.964841e+04\n",
              "std    11551.022750      1.049568  5.731263e+04\n",
              "min        1.000000      1.670000  5.000000e+00\n",
              "25%     3508.000000      5.900000  1.890000e+02\n",
              "50%    10774.000000      6.620000  1.452000e+03\n",
              "75%    25597.000000      7.240000  1.166900e+04\n",
              "max    34527.000000     10.000000  1.013917e+06"
            ]
          },
          "metadata": {
            "tags": []
          },
          "execution_count": 7
        }
      ]
    },
    {
      "cell_type": "markdown",
      "metadata": {
        "id": "LYVBsWpr67I9"
      },
      "source": [
        "***************\n",
        "***************\n",
        "# **Visualizing data**\n",
        "\n",
        "*Provide relevant pseudocode*"
      ]
    },
    {
      "cell_type": "code",
      "metadata": {
        "id": "3GHgnZS266pq",
        "colab": {
          "base_uri": "https://localhost:8080/",
          "height": 350
        },
        "outputId": "5e2dd1a2-681b-4905-8122-443b1d123de8"
      },
      "source": [
        "# visualization 1: Distribution for ratings given to the animes\n",
        "sns.distplot(data['rating'],kde=False,bins = 20)"
      ],
      "execution_count": 8,
      "outputs": [
        {
          "output_type": "stream",
          "text": [
            "/usr/local/lib/python3.7/dist-packages/seaborn/distributions.py:2557: FutureWarning: `distplot` is a deprecated function and will be removed in a future version. Please adapt your code to use either `displot` (a figure-level function with similar flexibility) or `histplot` (an axes-level function for histograms).\n",
            "  warnings.warn(msg, FutureWarning)\n"
          ],
          "name": "stderr"
        },
        {
          "output_type": "execute_result",
          "data": {
            "text/plain": [
              "<matplotlib.axes._subplots.AxesSubplot at 0x7f2e36e496d0>"
            ]
          },
          "metadata": {
            "tags": []
          },
          "execution_count": 8
        },
        {
          "output_type": "display_data",
          "data": {
            "image/png": "[encoded data removed]",
            "text/plain": [
              "<Figure size 432x288 with 1 Axes>"
            ]
          },
          "metadata": {
            "tags": [],
            "needs_background": "light"
          }
        }
      ]
    },
    {
      "cell_type": "code",
      "metadata": {
        "id": "r1eaUiXt7Dzk",
        "colab": {
          "base_uri": "https://localhost:8080/",
          "height": 296
        },
        "outputId": "d26ec23c-c815-4b32-a1ba-78f75f131c98"
      },
      "source": [
        "# visualization 2: Histogram of the media that each anime appears on\n",
        "sns.histplot(data['type'],kde=False,bins=20)"
      ],
      "execution_count": 25,
      "outputs": [
        {
          "output_type": "execute_result",
          "data": {
            "text/plain": [
              "<matplotlib.axes._subplots.AxesSubplot at 0x7f2e2e3b12d0>"
            ]
          },
          "metadata": {
            "tags": []
          },
          "execution_count": 25
        },
        {
          "output_type": "display_data",
          "data": {
            "image/png": "[encoded data removed]",
            "text/plain": [
              "<Figure size 432x288 with 1 Axes>"
            ]
          },
          "metadata": {
            "tags": [],
            "needs_background": "light"
          }
        }
      ]
    },
    {
      "cell_type": "code",
      "metadata": {
        "id": "k9bM5YGS7FUb"
      },
      "source": [
        "# visualization 3\n"
      ],
      "execution_count": 43,
      "outputs": []
    },
    {
      "cell_type": "code",
      "metadata": {
        "id": "FjNzOSuQ7Gyw"
      },
      "source": [
        "# visualization 4"
      ],
      "execution_count": 11,
      "outputs": []
    },
    {
      "cell_type": "code",
      "metadata": {
        "id": "FHe0b41j7IEP"
      },
      "source": [
        "# visualization 5"
      ],
      "execution_count": 12,
      "outputs": []
    },
    {
      "cell_type": "code",
      "metadata": {
        "id": "ap9WwMmE7Jep"
      },
      "source": [
        "# visualization 6"
      ],
      "execution_count": 13,
      "outputs": []
    },
    {
      "cell_type": "markdown",
      "metadata": {
        "id": "Auce80oG7whh"
      },
      "source": [
        "***************\n",
        "***************\n",
        "# **Feature Engineering**\n",
        "\n",
        "*If making specific choices (e.g., binning data, dummy coding, etc), please describe what you plan to do here*\n",
        "\n",
        "*Provide relevant pseudocode*\n"
      ]
    },
    {
      "cell_type": "code",
      "metadata": {
        "id": "oSLwS2a08FDu",
        "colab": {
          "base_uri": "https://localhost:8080/",
          "height": 306
        },
        "outputId": "27898b6b-3c84-4f71-b488-f763deb6d0b0"
      },
      "source": [
        "# Check and take care of null values\n",
        "#Create a heatmap to visualize missing data\n",
        "sns.heatmap(data.isnull(),cmap=['Green', 'Red'])\n",
        "\n",
        "#Replace unknown strings with NaNs\n",
        "data = data.replace('Unknown', np.nan)\n",
        "\n",
        "#Drop rows with Nans ratings\n",
        "data = data.dropna(thresh = 5)"
      ],
      "execution_count": 14,
      "outputs": [
        {
          "output_type": "display_data",
          "data": {
            "image/png": "[encoded data removed]",
            "text/plain": [
              "<Figure size 432x288 with 2 Axes>"
            ]
          },
          "metadata": {
            "tags": [],
            "needs_background": "light"
          }
        }
      ]
    },
    {
      "cell_type": "code",
      "metadata": {
        "colab": {
          "base_uri": "https://localhost:8080/",
          "height": 323
        },
        "id": "gfbhLIr_bkve",
        "outputId": "e83de4de-95d0-4c35-a774-6d1aa9ac2469"
      },
      "source": [
        "#Heatmap after dropping rows with more than 2 NaN values\n",
        "sns.heatmap(data.isnull(),cmap=['Green', 'Red'])"
      ],
      "execution_count": 15,
      "outputs": [
        {
          "output_type": "execute_result",
          "data": {
            "text/plain": [
              "<matplotlib.axes._subplots.AxesSubplot at 0x7f2e3650b1d0>"
            ]
          },
          "metadata": {
            "tags": []
          },
          "execution_count": 15
        },
        {
          "output_type": "display_data",
          "data": {
            "image/png": "[encoded data removed]",
            "text/plain": [
              "<Figure size 432x288 with 2 Axes>"
            ]
          },
          "metadata": {
            "tags": [],
            "needs_background": "light"
          }
        }
      ]
    },
    {
      "cell_type": "code",
      "metadata": {
        "colab": {
          "base_uri": "https://localhost:8080/",
          "height": 419
        },
        "id": "FAv8kKhFaQj1",
        "outputId": "980ec3b1-1a55-4bac-8409-73424434e838"
      },
      "source": [
        "#Checking the rows that has NaN values and see if there are anything that needs to be cleaned up\n",
        "is_NaN = data.isnull() \n",
        "row_has_NaN = is_NaN.any(axis=1)\n",
        "rows_with_NaN = data[row_has_NaN]\n",
        "rows_with_NaN"
      ],
      "execution_count": 16,
      "outputs": [
        {
          "output_type": "execute_result",
          "data": {
            "text/html": [
              "<div>\n",
              "<style scoped>\n",
              "    .dataframe tbody tr th:only-of-type {\n",
              "        vertical-align: middle;\n",
              "    }\n",
              "\n",
              "    .dataframe tbody tr th {\n",
              "        vertical-align: top;\n",
              "    }\n",
              "\n",
              "    .dataframe thead th {\n",
              "        text-align: right;\n",
              "    }\n",
              "</style>\n",
              "<table border=\"1\" class=\"dataframe\">\n",
              "  <thead>\n",
              "    <tr style=\"text-align: right;\">\n",
              "      <th></th>\n",
              "      <th>anime_id</th>\n",
              "      <th>name</th>\n",
              "      <th>genre</th>\n",
              "      <th>type</th>\n",
              "      <th>episodes</th>\n",
              "      <th>rating</th>\n",
              "      <th>members</th>\n",
              "    </tr>\n",
              "  </thead>\n",
              "  <tbody>\n",
              "    <tr>\n",
              "      <th>74</th>\n",
              "      <td>21</td>\n",
              "      <td>One Piece</td>\n",
              "      <td>Action, Adventure, Comedy, Drama, Fantasy, Sho...</td>\n",
              "      <td>TV</td>\n",
              "      <td>NaN</td>\n",
              "      <td>8.58</td>\n",
              "      <td>504862</td>\n",
              "    </tr>\n",
              "    <tr>\n",
              "      <th>252</th>\n",
              "      <td>235</td>\n",
              "      <td>Detective Conan</td>\n",
              "      <td>Adventure, Comedy, Mystery, Police, Shounen</td>\n",
              "      <td>TV</td>\n",
              "      <td>NaN</td>\n",
              "      <td>8.25</td>\n",
              "      <td>114702</td>\n",
              "    </tr>\n",
              "    <tr>\n",
              "      <th>615</th>\n",
              "      <td>1735</td>\n",
              "      <td>Naruto: Shippuuden</td>\n",
              "      <td>Action, Comedy, Martial Arts, Shounen, Super P...</td>\n",
              "      <td>TV</td>\n",
              "      <td>NaN</td>\n",
              "      <td>7.94</td>\n",
              "      <td>533578</td>\n",
              "    </tr>\n",
              "    <tr>\n",
              "      <th>991</th>\n",
              "      <td>966</td>\n",
              "      <td>Crayon Shin-chan</td>\n",
              "      <td>Comedy, Ecchi, Kids, School, Shounen, Slice of...</td>\n",
              "      <td>TV</td>\n",
              "      <td>NaN</td>\n",
              "      <td>7.73</td>\n",
              "      <td>26267</td>\n",
              "    </tr>\n",
              "    <tr>\n",
              "      <th>1021</th>\n",
              "      <td>33157</td>\n",
              "      <td>Tanaka-kun wa Itsumo Kedaruge Specials</td>\n",
              "      <td>Comedy, School, Slice of Life</td>\n",
              "      <td>Special</td>\n",
              "      <td>NaN</td>\n",
              "      <td>7.72</td>\n",
              "      <td>5400</td>\n",
              "    </tr>\n",
              "    <tr>\n",
              "      <th>...</th>\n",
              "      <td>...</td>\n",
              "      <td>...</td>\n",
              "      <td>...</td>\n",
              "      <td>...</td>\n",
              "      <td>...</td>\n",
              "      <td>...</td>\n",
              "      <td>...</td>\n",
              "    </tr>\n",
              "    <tr>\n",
              "      <th>11109</th>\n",
              "      <td>34471</td>\n",
              "      <td>Youkai Watch Movie 4</td>\n",
              "      <td>Comedy, Kids, Supernatural</td>\n",
              "      <td>Movie</td>\n",
              "      <td>1</td>\n",
              "      <td>NaN</td>\n",
              "      <td>169</td>\n",
              "    </tr>\n",
              "    <tr>\n",
              "      <th>11110</th>\n",
              "      <td>34284</td>\n",
              "      <td>Yuuki Yuuna wa Yuusha de Aru: Washio Sumi no Shou</td>\n",
              "      <td>Drama, Fantasy, Magic, Slice of Life</td>\n",
              "      <td>TV</td>\n",
              "      <td>6</td>\n",
              "      <td>NaN</td>\n",
              "      <td>2593</td>\n",
              "    </tr>\n",
              "    <tr>\n",
              "      <th>11111</th>\n",
              "      <td>34445</td>\n",
              "      <td>Yuuki Yuuna wa Yuusha de Aru: Yuusha no Shou</td>\n",
              "      <td>Drama, Fantasy, Magic, Slice of Life</td>\n",
              "      <td>TV</td>\n",
              "      <td>6</td>\n",
              "      <td>NaN</td>\n",
              "      <td>4439</td>\n",
              "    </tr>\n",
              "    <tr>\n",
              "      <th>11112</th>\n",
              "      <td>33035</td>\n",
              "      <td>Yuyushiki Special</td>\n",
              "      <td>NaN</td>\n",
              "      <td>Special</td>\n",
              "      <td>1</td>\n",
              "      <td>NaN</td>\n",
              "      <td>2294</td>\n",
              "    </tr>\n",
              "    <tr>\n",
              "      <th>11113</th>\n",
              "      <td>33390</td>\n",
              "      <td>Zunda Horizon</td>\n",
              "      <td>NaN</td>\n",
              "      <td>Movie</td>\n",
              "      <td>1</td>\n",
              "      <td>NaN</td>\n",
              "      <td>160</td>\n",
              "    </tr>\n",
              "  </tbody>\n",
              "</table>\n",
              "<p>390 rows × 7 columns</p>\n",
              "</div>"
            ],
            "text/plain": [
              "       anime_id  ... members\n",
              "74           21  ...  504862\n",
              "252         235  ...  114702\n",
              "615        1735  ...  533578\n",
              "991         966  ...   26267\n",
              "1021      33157  ...    5400\n",
              "...         ...  ...     ...\n",
              "11109     34471  ...     169\n",
              "11110     34284  ...    2593\n",
              "11111     34445  ...    4439\n",
              "11112     33035  ...    2294\n",
              "11113     33390  ...     160\n",
              "\n",
              "[390 rows x 7 columns]"
            ]
          },
          "metadata": {
            "tags": []
          },
          "execution_count": 16
        }
      ]
    },
    {
      "cell_type": "markdown",
      "metadata": {
        "id": "2B6SMdsYaBh8"
      },
      "source": [
        "I decided to not drop the rest of the NaNs value just because the majority of the NaNs values are from episode numbers, and they are not too important. For the ratings, "
      ]
    },
    {
      "cell_type": "code",
      "metadata": {
        "id": "H-DfvqUp8H5Z"
      },
      "source": [
        "# Check and take care of string values\n",
        "data['genre'] = data['genre'].str.replace(\"Slice of Life\", \"SliceofLife\")\n",
        "data['genre'] = data['genre'].str.replace(\"Super Power\", \"SuperPower\")"
      ],
      "execution_count": 30,
      "outputs": []
    },
    {
      "cell_type": "code",
      "metadata": {
        "colab": {
          "base_uri": "https://localhost:8080/"
        },
        "id": "boFs7DOhbXK6",
        "outputId": "50498196-38be-448c-e44e-a271d0b85edf"
      },
      "source": [
        "# Check for duplicated values\n",
        "any(data.duplicated())"
      ],
      "execution_count": 18,
      "outputs": [
        {
          "output_type": "execute_result",
          "data": {
            "text/plain": [
              "False"
            ]
          },
          "metadata": {
            "tags": []
          },
          "execution_count": 18
        }
      ]
    },
    {
      "cell_type": "code",
      "metadata": {
        "colab": {
          "base_uri": "https://localhost:8080/"
        },
        "id": "TzzBjyQwN7al",
        "outputId": "9d864b6f-6653-4551-9b6d-95cb81f37f61"
      },
      "source": [
        "data.info()"
      ],
      "execution_count": 26,
      "outputs": [
        {
          "output_type": "stream",
          "text": [
            "<class 'pandas.core.frame.DataFrame'>\n",
            "Int64Index: 11121 entries, 0 to 11150\n",
            "Data columns (total 7 columns):\n",
            " #   Column    Non-Null Count  Dtype  \n",
            "---  ------    --------------  -----  \n",
            " 0   anime_id  11121 non-null  int64  \n",
            " 1   name      11121 non-null  object \n",
            " 2   genre     11069 non-null  object \n",
            " 3   type      11121 non-null  object \n",
            " 4   episodes  10853 non-null  object \n",
            " 5   rating    10931 non-null  float64\n",
            " 6   members   11121 non-null  int64  \n",
            "dtypes: float64(1), int64(2), object(4)\n",
            "memory usage: 695.1+ KB\n"
          ],
          "name": "stdout"
        }
      ]
    },
    {
      "cell_type": "code",
      "metadata": {
        "id": "PNAng6KF8K0h",
        "colab": {
          "base_uri": "https://localhost:8080/"
        },
        "outputId": "3e71d636-f0bb-42cf-ee89-6533b401110e"
      },
      "source": [
        "# Check and take care of outliers\n",
        "outlier1 = data[(data['rating'] < 0)]\n",
        "outlier2 =  data[(data['rating'] > 10)]    \n",
        "outlier_list = [outlier1,outlier2]             \n",
        "outliers = pd.concat(outlier_list)\n",
        "outliers.info()"
      ],
      "execution_count": 20,
      "outputs": [
        {
          "output_type": "stream",
          "text": [
            "<class 'pandas.core.frame.DataFrame'>\n",
            "Int64Index: 0 entries\n",
            "Data columns (total 7 columns):\n",
            " #   Column    Non-Null Count  Dtype  \n",
            "---  ------    --------------  -----  \n",
            " 0   anime_id  0 non-null      int64  \n",
            " 1   name      0 non-null      object \n",
            " 2   genre     0 non-null      object \n",
            " 3   type      0 non-null      object \n",
            " 4   episodes  0 non-null      object \n",
            " 5   rating    0 non-null      float64\n",
            " 6   members   0 non-null      int64  \n",
            "dtypes: float64(1), int64(2), object(4)\n",
            "memory usage: 0.0+ bytes\n"
          ],
          "name": "stdout"
        }
      ]
    },
    {
      "cell_type": "code",
      "metadata": {
        "id": "njSlSQhC-vd1"
      },
      "source": [
        "#Dummy coding variables:\n",
        "#I will be dummy coding the data['genre'] column. Right now, there are more than \n",
        "#3000 unique values in this column, so I'm trying to format the data better in \n",
        "#order to see if certain genre affects the ratings of an anime\n",
        "\n",
        "#As you can see, there are at least 13 different unique values for genre, and I\n",
        "#will need to merge this data somehow to make a new dataframe of categories and \n",
        "#their ratings. From there, I will be able to make a visualization of the relationship\n",
        "#between genre and ratings."
      ],
      "execution_count": 21,
      "outputs": []
    },
    {
      "cell_type": "code",
      "metadata": {
        "id": "n7bZoizV8NDl",
        "colab": {
          "base_uri": "https://localhost:8080/",
          "height": 419
        },
        "outputId": "b05968c6-6d14-4631-c4c1-564072dabf0a"
      },
      "source": [
        "#Creating a new dataframe that splits the description of genres\n",
        "genre10 = data\n",
        "genre10['genre'].str.split(expand=True)"
      ],
      "execution_count": 36,
      "outputs": [
        {
          "output_type": "execute_result",
          "data": {
            "text/html": [
              "<div>\n",
              "<style scoped>\n",
              "    .dataframe tbody tr th:only-of-type {\n",
              "        vertical-align: middle;\n",
              "    }\n",
              "\n",
              "    .dataframe tbody tr th {\n",
              "        vertical-align: top;\n",
              "    }\n",
              "\n",
              "    .dataframe thead th {\n",
              "        text-align: right;\n",
              "    }\n",
              "</style>\n",
              "<table border=\"1\" class=\"dataframe\">\n",
              "  <thead>\n",
              "    <tr style=\"text-align: right;\">\n",
              "      <th></th>\n",
              "      <th>0</th>\n",
              "      <th>1</th>\n",
              "      <th>2</th>\n",
              "      <th>3</th>\n",
              "      <th>4</th>\n",
              "      <th>5</th>\n",
              "      <th>6</th>\n",
              "      <th>7</th>\n",
              "      <th>8</th>\n",
              "      <th>9</th>\n",
              "      <th>10</th>\n",
              "      <th>11</th>\n",
              "      <th>12</th>\n",
              "      <th>13</th>\n",
              "    </tr>\n",
              "  </thead>\n",
              "  <tbody>\n",
              "    <tr>\n",
              "      <th>0</th>\n",
              "      <td>Drama,</td>\n",
              "      <td>Romance,</td>\n",
              "      <td>School,</td>\n",
              "      <td>Supernatural</td>\n",
              "      <td>None</td>\n",
              "      <td>None</td>\n",
              "      <td>None</td>\n",
              "      <td>None</td>\n",
              "      <td>None</td>\n",
              "      <td>None</td>\n",
              "      <td>None</td>\n",
              "      <td>None</td>\n",
              "      <td>None</td>\n",
              "      <td>None</td>\n",
              "    </tr>\n",
              "    <tr>\n",
              "      <th>1</th>\n",
              "      <td>Action,</td>\n",
              "      <td>Adventure,</td>\n",
              "      <td>Drama,</td>\n",
              "      <td>Fantasy,</td>\n",
              "      <td>Magic,</td>\n",
              "      <td>Military,</td>\n",
              "      <td>Shounen</td>\n",
              "      <td>None</td>\n",
              "      <td>None</td>\n",
              "      <td>None</td>\n",
              "      <td>None</td>\n",
              "      <td>None</td>\n",
              "      <td>None</td>\n",
              "      <td>None</td>\n",
              "    </tr>\n",
              "    <tr>\n",
              "      <th>2</th>\n",
              "      <td>Action,</td>\n",
              "      <td>Comedy,</td>\n",
              "      <td>Historical,</td>\n",
              "      <td>Parody,</td>\n",
              "      <td>Samurai,</td>\n",
              "      <td>Sci-Fi,</td>\n",
              "      <td>Shounen</td>\n",
              "      <td>None</td>\n",
              "      <td>None</td>\n",
              "      <td>None</td>\n",
              "      <td>None</td>\n",
              "      <td>None</td>\n",
              "      <td>None</td>\n",
              "      <td>None</td>\n",
              "    </tr>\n",
              "    <tr>\n",
              "      <th>3</th>\n",
              "      <td>Sci-Fi,</td>\n",
              "      <td>Thriller</td>\n",
              "      <td>None</td>\n",
              "      <td>None</td>\n",
              "      <td>None</td>\n",
              "      <td>None</td>\n",
              "      <td>None</td>\n",
              "      <td>None</td>\n",
              "      <td>None</td>\n",
              "      <td>None</td>\n",
              "      <td>None</td>\n",
              "      <td>None</td>\n",
              "      <td>None</td>\n",
              "      <td>None</td>\n",
              "    </tr>\n",
              "    <tr>\n",
              "      <th>4</th>\n",
              "      <td>Action,</td>\n",
              "      <td>Comedy,</td>\n",
              "      <td>Historical,</td>\n",
              "      <td>Parody,</td>\n",
              "      <td>Samurai,</td>\n",
              "      <td>Sci-Fi,</td>\n",
              "      <td>Shounen</td>\n",
              "      <td>None</td>\n",
              "      <td>None</td>\n",
              "      <td>None</td>\n",
              "      <td>None</td>\n",
              "      <td>None</td>\n",
              "      <td>None</td>\n",
              "      <td>None</td>\n",
              "    </tr>\n",
              "    <tr>\n",
              "      <th>...</th>\n",
              "      <td>...</td>\n",
              "      <td>...</td>\n",
              "      <td>...</td>\n",
              "      <td>...</td>\n",
              "      <td>...</td>\n",
              "      <td>...</td>\n",
              "      <td>...</td>\n",
              "      <td>...</td>\n",
              "      <td>...</td>\n",
              "      <td>...</td>\n",
              "      <td>...</td>\n",
              "      <td>...</td>\n",
              "      <td>...</td>\n",
              "      <td>...</td>\n",
              "    </tr>\n",
              "    <tr>\n",
              "      <th>11146</th>\n",
              "      <td>Ecchi,</td>\n",
              "      <td>Yuri</td>\n",
              "      <td>None</td>\n",
              "      <td>None</td>\n",
              "      <td>None</td>\n",
              "      <td>None</td>\n",
              "      <td>None</td>\n",
              "      <td>None</td>\n",
              "      <td>None</td>\n",
              "      <td>None</td>\n",
              "      <td>None</td>\n",
              "      <td>None</td>\n",
              "      <td>None</td>\n",
              "      <td>None</td>\n",
              "    </tr>\n",
              "    <tr>\n",
              "      <th>11147</th>\n",
              "      <td>Action,</td>\n",
              "      <td>Horror,</td>\n",
              "      <td>Sci-Fi,</td>\n",
              "      <td>Supernatural,</td>\n",
              "      <td>Vampire,</td>\n",
              "      <td>Yaoi</td>\n",
              "      <td>None</td>\n",
              "      <td>None</td>\n",
              "      <td>None</td>\n",
              "      <td>None</td>\n",
              "      <td>None</td>\n",
              "      <td>None</td>\n",
              "      <td>None</td>\n",
              "      <td>None</td>\n",
              "    </tr>\n",
              "    <tr>\n",
              "      <th>11148</th>\n",
              "      <td>Drama,</td>\n",
              "      <td>Romance,</td>\n",
              "      <td>Yaoi</td>\n",
              "      <td>None</td>\n",
              "      <td>None</td>\n",
              "      <td>None</td>\n",
              "      <td>None</td>\n",
              "      <td>None</td>\n",
              "      <td>None</td>\n",
              "      <td>None</td>\n",
              "      <td>None</td>\n",
              "      <td>None</td>\n",
              "      <td>None</td>\n",
              "      <td>None</td>\n",
              "    </tr>\n",
              "    <tr>\n",
              "      <th>11149</th>\n",
              "      <td>Yaoi</td>\n",
              "      <td>None</td>\n",
              "      <td>None</td>\n",
              "      <td>None</td>\n",
              "      <td>None</td>\n",
              "      <td>None</td>\n",
              "      <td>None</td>\n",
              "      <td>None</td>\n",
              "      <td>None</td>\n",
              "      <td>None</td>\n",
              "      <td>None</td>\n",
              "      <td>None</td>\n",
              "      <td>None</td>\n",
              "      <td>None</td>\n",
              "    </tr>\n",
              "    <tr>\n",
              "      <th>11150</th>\n",
              "      <td>Action,</td>\n",
              "      <td>Comedy,</td>\n",
              "      <td>Ecchi,</td>\n",
              "      <td>Yuri</td>\n",
              "      <td>None</td>\n",
              "      <td>None</td>\n",
              "      <td>None</td>\n",
              "      <td>None</td>\n",
              "      <td>None</td>\n",
              "      <td>None</td>\n",
              "      <td>None</td>\n",
              "      <td>None</td>\n",
              "      <td>None</td>\n",
              "      <td>None</td>\n",
              "    </tr>\n",
              "  </tbody>\n",
              "</table>\n",
              "<p>11121 rows × 14 columns</p>\n",
              "</div>"
            ],
            "text/plain": [
              "            0           1            2              3   ...    10    11    12    13\n",
              "0       Drama,    Romance,      School,   Supernatural  ...  None  None  None  None\n",
              "1      Action,  Adventure,       Drama,       Fantasy,  ...  None  None  None  None\n",
              "2      Action,     Comedy,  Historical,        Parody,  ...  None  None  None  None\n",
              "3      Sci-Fi,    Thriller         None           None  ...  None  None  None  None\n",
              "4      Action,     Comedy,  Historical,        Parody,  ...  None  None  None  None\n",
              "...        ...         ...          ...            ...  ...   ...   ...   ...   ...\n",
              "11146   Ecchi,        Yuri         None           None  ...  None  None  None  None\n",
              "11147  Action,     Horror,      Sci-Fi,  Supernatural,  ...  None  None  None  None\n",
              "11148   Drama,    Romance,         Yaoi           None  ...  None  None  None  None\n",
              "11149     Yaoi        None         None           None  ...  None  None  None  None\n",
              "11150  Action,     Comedy,       Ecchi,           Yuri  ...  None  None  None  None\n",
              "\n",
              "[11121 rows x 14 columns]"
            ]
          },
          "metadata": {
            "tags": []
          },
          "execution_count": 36
        }
      ]
    },
    {
      "cell_type": "markdown",
      "metadata": {
        "id": "tCAIFvyj8ULA"
      },
      "source": [
        "***************\n",
        "***************\n",
        "# **Analysis section**\n",
        "\n",
        "*Provide relevant pseudocode for linear regression or classification*"
      ]
    },
    {
      "cell_type": "code",
      "metadata": {
        "id": "yojYKLfcTjdi"
      },
      "source": [
        "# Machine Learning 1"
      ],
      "execution_count": 23,
      "outputs": []
    },
    {
      "cell_type": "code",
      "metadata": {
        "id": "6KnUG4zXTu8e"
      },
      "source": [
        "# Machine Learning 2, if needed"
      ],
      "execution_count": 24,
      "outputs": []
    },
    {
      "cell_type": "markdown",
      "metadata": {
        "id": "z_jtnE5A8aha"
      },
      "source": [
        "***************\n",
        "***************\n",
        "# **Conclusions**\n",
        "\n",
        "*Describe what you found and learned from your evaluation of your dataset*"
      ]
    }
  ]
}